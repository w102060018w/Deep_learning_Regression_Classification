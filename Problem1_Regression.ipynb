{
 "cells": [
  {
   "cell_type": "code",
   "execution_count": 154,
   "metadata": {},
   "outputs": [],
   "source": [
    "## import lib\n",
    "import pandas as pd\n",
    "import numpy as np\n",
    "from numpy.linalg import pinv,inv,matrix_power\n",
    "from scipy.linalg import sqrtm\n",
    "from scipy.io import loadmat\n",
    "import itertools\n",
    "import math\n",
    "import csv\n",
    "from matplotlib.pyplot import plot"
   ]
  },
  {
   "cell_type": "code",
   "execution_count": 116,
   "metadata": {},
   "outputs": [
    {
     "name": "stdout",
     "output_type": "stream",
     "text": [
      "Total-data-Num :  769\n",
      "len of tr_feat =  576\n",
      "len of ts_feat =  192\n",
      "len of tr_label =  576\n",
      "len of ts_label =  192\n",
      "type of tr_feat =  <class 'numpy.ndarray'>\n",
      "type of ts_feat =  <class 'numpy.ndarray'>\n",
      "type of tr_label =  <class 'list'>\n",
      "type of ts_label =  <class 'list'>\n"
     ]
    }
   ],
   "source": [
    "def Turn2OneHot(feature):\n",
    "    Orientation_onehot = np.zeros(4)\n",
    "    GAD_onehot = np.zeros(6)\n",
    "    Orientation = int(feature[5])-2 # range: 2,3,4,5 -> eg. 3 == [0100]; 4 == [0010]\n",
    "    GAD = int(feature[7]) # range: 0,1,2,3,4,5 -> eg. 2 == [001000]; 4 == [000010]\n",
    "    Orientation_onehot[Orientation] = 1\n",
    "    GAD_onehot[GAD] = 1\n",
    "    Orientation_onehot = Orientation_onehot.tolist()\n",
    "    GAD_onehot = GAD_onehot.tolist()\n",
    "    feature = feature[:5] + Orientation_onehot + [feature[6]] + GAD_onehot\n",
    "    return feature\n",
    "    \n",
    "\n",
    "# load data\n",
    "categorical2onehot_index = [5, 7]\n",
    "data_dir = './Dataset/energy_efficiency_data.csv'\n",
    "df_data = pd.read_csv(data_dir,header=None)\n",
    "Data_N, attr_N = df_data.shape\n",
    "\n",
    "# create feature\n",
    "All_onehot_feat = []\n",
    "print('Total-data-Num : ',Data_N)\n",
    "for i in range(Data_N):\n",
    "    if i > 0:\n",
    "        feat = list(map(float, df_data.iloc[[i]].as_matrix()[0]))\n",
    "        onehot_feat = Turn2OneHot(feat)\n",
    "        All_onehot_feat.append(onehot_feat)\n",
    "tr_feat = np.array(All_onehot_feat[:576])\n",
    "ts_feat = np.array(All_onehot_feat[576:])\n",
    "tr_label = list(map(float, df_data[8][1:577].as_matrix()))\n",
    "ts_label = list(map(float, df_data[8][577:].as_matrix()))\n",
    "\n",
    "feat_dim = tr_feat.shape[1]\n",
    "print('len of tr_feat = ',len(tr_feat))\n",
    "print('len of ts_feat = ',len(ts_feat))\n",
    "print('len of tr_label = ',len(tr_label))\n",
    "print('len of ts_label = ',len(ts_label))\n",
    "print('type of tr_feat = ',type(tr_feat))\n",
    "print('type of ts_feat = ',type(ts_feat))\n",
    "print('type of tr_label = ',type(tr_label))\n",
    "print('type of ts_label = ',type(ts_label))"
   ]
  },
  {
   "cell_type": "code",
   "execution_count": 224,
   "metadata": {},
   "outputs": [
    {
     "name": "stdout",
     "output_type": "stream",
     "text": [
      "[-0.62555906  0.2157665   0.69577965  0.7176229  -0.55810643  0.54181973\n",
      " -0.41635865  0.5748485  -1.37355386 -0.09860622]\n",
      "[ 1.57747923 -1.01456577  0.32272322 -0.34008055 -0.38023709 -0.89139415\n",
      " -0.59630255 -0.88157111  0.94684081  1.15647558]\n",
      "[-1.17102345]\n",
      "43.66312173669658\n"
     ]
    },
    {
     "data": {
      "text/plain": [
       "[<matplotlib.lines.Line2D at 0x181db8b9e8>]"
      ]
     },
     "execution_count": 224,
     "metadata": {},
     "output_type": "execute_result"
    },
    {
     "data": {
      "image/png": "[encoded data removed]",
      "text/plain": [
       "<matplotlib.figure.Figure at 0x181d6a0eb8>"
      ]
     },
     "metadata": {},
     "output_type": "display_data"
    }
   ],
   "source": [
    "# Initial-Para.\n",
    "W1 = np.random.randn(feat_dim, 10)\n",
    "W2 = np.random.randn(10, 10)\n",
    "W3 = np.random.randn(10, 1)\n",
    "b1 = np.random.randn(10)\n",
    "b2 = np.random.randn(10)\n",
    "b3 = np.random.randn(1)\n",
    "lr = 10e-12\n",
    "\n",
    "def act_func(a_ary):\n",
    "    # RELU\n",
    "    a_ary_act = a_ary.copy()\n",
    "    for row in range(a_ary.shape[0]):\n",
    "        for col in range(a_ary.shape[1]):\n",
    "            a_ary_act[row][col] = max(0,a_ary[row][col])\n",
    "            \n",
    "    return a_ary_act\n",
    "def act_derivative(a_ary):\n",
    "    # Derivative of RELU\n",
    "    a_ary_act = a_ary.copy()\n",
    "    for row in range(a_ary.shape[0]):\n",
    "        for col in range(a_ary.shape[1]):\n",
    "            if a_ary[row][col] == 0:\n",
    "                a_ary_act[row][col] = 0\n",
    "            else:\n",
    "                a_ary_act[row][col] = 1\n",
    "            \n",
    "    return a_ary_act\n",
    "    \n",
    "# fwd, bwd\n",
    "def fwd(input_X):\n",
    "    b1_mat = np.tile(b1,(576,1)).T\n",
    "    b2_mat = np.tile(b2,(576,1)).T\n",
    "    b3_mat = np.tile(b3,(576,1)).T    \n",
    "    a1 = np.matmul(W1.T,input_X.T) + b1_mat\n",
    "    h1 = act_func(a1)\n",
    "    a2 = np.matmul(W2.T,h1) + b2_mat\n",
    "    h2 = act_func(a2)\n",
    "    a3 = np.matmul(W3.T,h2) + b3_mat\n",
    "    y_pre = act_func(a3)\n",
    "    return a1, a2, a3, h1, h2, y_pre\n",
    "    \n",
    "def bwd(x,h1,h2,y_pred,a1,a2,a3,yt_label):\n",
    "    global b1,b2,b3,W1,W2,W3\n",
    "    \n",
    "    g = -2*(yt_label-y_pred)\n",
    "    \n",
    "    # third-layer\n",
    "    grad_b3 = np.sum(g,axis = 1)\n",
    "    grad_w3 = np.matmul(g,h2.T).T\n",
    "    g = np.matmul(W3,g)\n",
    "    \n",
    "    # second-layer\n",
    "    g = np.multiply(g, act_derivative(a2))\n",
    "    grad_b2 = np.sum(g,axis = 1)\n",
    "    grad_w2 = np.matmul(g,h1.T).T\n",
    "    g = np.matmul(W2,g)\n",
    "    \n",
    "    # first-layer\n",
    "    g = np.multiply(g, act_derivative(a1))\n",
    "    grad_b1 = np.sum(g,axis = 1)\n",
    "    grad_w1 = np.matmul(g,x).T\n",
    "    \n",
    "    grad_b = [grad_b1,grad_b2,grad_b3]\n",
    "    grad_w = [grad_w1,grad_w2,grad_w3]\n",
    "    return grad_b, grad_w\n",
    "\n",
    "def Check_para():\n",
    "    print(b1)\n",
    "    print(b2)\n",
    "    print(b3)\n",
    "#     print(W1)\n",
    "#     print(W2)\n",
    "#     print(W3)\n",
    "    \n",
    "    \n",
    "# main-function\n",
    "Check_para()\n",
    "rms_err_lst = []\n",
    "for i in range(300):\n",
    "    a1, a2, a3, h1, h2, y_pred = fwd(tr_feat)\n",
    "#     print(y_pred[0][1], y_pred[0][10], tr_label[0], tr_label[10])\n",
    "    grad_b, grad_w = bwd(tr_feat, h1, h2, y_pred, a1, a2, a3, tr_label)\n",
    "    rms_err = np.sqrt( np.sum((y_pred - tr_label)**2) / 576 )\n",
    "#     print('=============== %s ============='%(str(i)))\n",
    "#     Check_para()\n",
    "#     print('grad_b1-shape :',grad_b[0].shape)\n",
    "#     print('grad_b2-shape :',grad_b[1].shape)\n",
    "#     print('grad_b3-shape :',grad_b[2].shape)\n",
    "#     print('grad_W1-shape :',grad_w[0].shape)\n",
    "#     print('grad_W2-shape :',grad_w[1].shape)\n",
    "#     print('grad_W3-shape :',grad_w[2].shape)\n",
    "#     print('grad_b1-shape :',grad_b[0])\n",
    "#     print('grad_b2-shape :',grad_b[1])\n",
    "#     print('grad_b3-shape :',grad_b[2])\n",
    "#     print('grad_W1-shape :',grad_w[0])\n",
    "#     print('grad_W2-shape :',grad_w[1])\n",
    "#     print('grad_W3-shape :',grad_w[2])\n",
    "    b1 -= lr*grad_b[0]\n",
    "    b2 -= lr*grad_b[1]\n",
    "    b3 -= lr*grad_b[2]\n",
    "    W1 -= lr*grad_w[0]\n",
    "    W2 -= lr*grad_w[1]\n",
    "    W3 -= lr*grad_w[2]\n",
    "    rms_err_lst.append(rms_err)\n",
    "#     print(rms_err)\n",
    "# Check_para()\n",
    "print(rms_err)\n",
    "plot(range(300), rms_err_lst)  "
   ]
  },
  {
   "cell_type": "code",
   "execution_count": 225,
   "metadata": {},
   "outputs": [
    {
     "data": {
      "text/plain": [
       "[<matplotlib.lines.Line2D at 0x181d6b1d30>]"
      ]
     },
     "execution_count": 225,
     "metadata": {},
     "output_type": "execute_result"
    },
    {
     "data": {
      "image/png": "[encoded data removed]",
      "text/plain": [
       "<matplotlib.figure.Figure at 0x181d8627f0>"
      ]
     },
     "metadata": {},
     "output_type": "display_data"
    }
   ],
   "source": [
    "plot(range(300), rms_err_lst) "
   ]
  },
  {
   "cell_type": "code",
   "execution_count": null,
   "metadata": {},
   "outputs": [],
   "source": []
  },
  {
   "cell_type": "code",
   "execution_count": 45,
   "metadata": {},
   "outputs": [],
   "source": [
    "Orientation_onehot = np.zeros(4)\n",
    "Orientation_onehot[2] = 1"
   ]
  },
  {
   "cell_type": "code",
   "execution_count": 69,
   "metadata": {},
   "outputs": [
    {
     "name": "stdout",
     "output_type": "stream",
     "text": [
      "[15.55, 15.55, 15.55, 20.84]\n"
     ]
    }
   ],
   "source": [
    "print(list(map(float, df_data[8][1:5].as_matrix())))"
   ]
  },
  {
   "cell_type": "code",
   "execution_count": 101,
   "metadata": {},
   "outputs": [
    {
     "data": {
      "text/plain": [
       "16"
      ]
     },
     "execution_count": 101,
     "metadata": {},
     "output_type": "execute_result"
    }
   ],
   "source": [
    "tr_feat.shape[1]"
   ]
  },
  {
   "cell_type": "code",
   "execution_count": 93,
   "metadata": {},
   "outputs": [
    {
     "data": {
      "text/plain": [
       "array([[-0.08467624, -1.02552173],\n",
       "       [-1.24375126, -0.05444939],\n",
       "       [ 0.00740194, -1.35446612],\n",
       "       [ 1.76996907, -0.14556115],\n",
       "       [-1.47378895,  2.36566989]])"
      ]
     },
     "execution_count": 93,
     "metadata": {},
     "output_type": "execute_result"
    }
   ],
   "source": [
    "np.random.randn(5,2)"
   ]
  },
  {
   "cell_type": "code",
   "execution_count": 110,
   "metadata": {},
   "outputs": [],
   "source": [
    "c = np.array([1,2,3,4,5,6])\n",
    "np.tile(c,(4,1))\n",
    "b1 = np.random.randn(6)\n",
    "b1_matrixx = np.tile(b1,(3,1))\n",
    "b1_matrixx_t = b1_matrixx.T"
   ]
  },
  {
   "cell_type": "code",
   "execution_count": 114,
   "metadata": {},
   "outputs": [
    {
     "name": "stdout",
     "output_type": "stream",
     "text": [
      "[[ 1.40407646  0.43608404 -0.88662014  0.54107567 -0.47534813  0.73413059]\n",
      " [ 1.40407646  0.43608404 -0.88662014  0.54107567 -0.47534813  0.73413059]\n",
      " [ 1.40407646  0.43608404 -0.88662014  0.54107567 -0.47534813  0.73413059]]\n",
      "[[ 1.40407646  1.40407646  1.40407646]\n",
      " [ 0.43608404  0.43608404  0.43608404]\n",
      " [-0.88662014 -0.88662014 -0.88662014]\n",
      " [ 0.54107567  0.54107567  0.54107567]\n",
      " [-0.47534813 -0.47534813 -0.47534813]\n",
      " [ 0.73413059  0.73413059  0.73413059]]\n"
     ]
    }
   ],
   "source": [
    "print(b1_matrixx)\n",
    "print(b1_matrixx_t)"
   ]
  },
  {
   "cell_type": "code",
   "execution_count": 138,
   "metadata": {},
   "outputs": [
    {
     "name": "stdout",
     "output_type": "stream",
     "text": [
      "[ 3 12  5 12]\n"
     ]
    }
   ],
   "source": [
    "ary = np.array([3,4,5,6])\n",
    "ary2 = np.array([1,3,1,2])\n",
    "print(np.multiply(ary,ary2))"
   ]
  },
  {
   "cell_type": "code",
   "execution_count": null,
   "metadata": {},
   "outputs": [],
   "source": []
  }
 ],
 "metadata": {
  "kernelspec": {
   "display_name": "Python 3",
   "language": "python",
   "name": "python3"
  },
  "language_info": {
   "codemirror_mode": {
    "name": "ipython",
    "version": 3
   },
   "file_extension": ".py",
   "mimetype": "text/x-python",
   "name": "python",
   "nbconvert_exporter": "python",
   "pygments_lexer": "ipython3",
   "version": "3.5.4"
  }
 },
 "nbformat": 4,
 "nbformat_minor": 2
}
