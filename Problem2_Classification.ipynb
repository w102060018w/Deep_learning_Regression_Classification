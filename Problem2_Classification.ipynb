{
 "cells": [
  {
   "cell_type": "code",
   "execution_count": 54,
   "metadata": {},
   "outputs": [],
   "source": [
    "## import lib\n",
    "import pandas as pd\n",
    "import numpy as np\n",
    "from numpy.linalg import pinv,inv,matrix_power\n",
    "from scipy.linalg import sqrtm\n",
    "from scipy.io import loadmat\n",
    "import itertools\n",
    "import math\n",
    "import csv\n",
    "from matplotlib.pyplot import plot\n",
    "from tqdm import tqdm"
   ]
  },
  {
   "cell_type": "code",
   "execution_count": 15,
   "metadata": {},
   "outputs": [
    {
     "name": "stdout",
     "output_type": "stream",
     "text": [
      "tr_data-shape: (2000, 40)\n",
      "ts_data-shape: (500, 40)\n",
      "tr_label-shape: (2000, 2)\n",
      "ts_label-shape: (500, 2)\n"
     ]
    }
   ],
   "source": [
    "# load data\n",
    "data_dir = './Dataset/spam_data.mat'\n",
    "data = loadmat(data_dir)\n",
    "tr_data = data['train_x']\n",
    "ts_data = data['test_x']\n",
    "tr_label = data['train_y']\n",
    "ts_label = data['test_y']\n",
    "\n",
    "tr_N = tr_data.shape[0]\n",
    "feat_dim = tr_data.shape[1]\n",
    "ts_N = ts_data.shape[0]\n",
    "print('tr_data-shape:',tr_data.shape)\n",
    "print('ts_data-shape:',ts_data.shape)\n",
    "print('tr_label-shape:',tr_label.shape)\n",
    "print('ts_label-shape:',ts_label.shape)"
   ]
  },
  {
   "cell_type": "code",
   "execution_count": 68,
   "metadata": {},
   "outputs": [
    {
     "name": "stderr",
     "output_type": "stream",
     "text": [
      "100%|██████████| 500/500 [00:10<00:00, 45.49it/s]\n"
     ]
    },
    {
     "data": {
      "text/plain": [
       "[<matplotlib.lines.Line2D at 0x1819e70be0>]"
      ]
     },
     "execution_count": 68,
     "metadata": {},
     "output_type": "execute_result"
    },
    {
     "data": {
      "image/png": "[encoded data removed]",
      "text/plain": [
       "<matplotlib.figure.Figure at 0x1819dcaef0>"
      ]
     },
     "metadata": {},
     "output_type": "display_data"
    }
   ],
   "source": [
    "# Initial-Para.\n",
    "W1 = np.random.randn(feat_dim, 10)\n",
    "W2 = np.random.randn(10, 3)\n",
    "W3 = np.random.randn(3, 2)\n",
    "b1 = np.random.randn(10)\n",
    "b2 = np.random.randn(3)\n",
    "b3 = np.random.randn(2)\n",
    "lr = 10e-4\n",
    "\n",
    "def act_func(a_ary):\n",
    "    # RELU\n",
    "    a_ary[a_ary<0]=0\n",
    "    return a_ary\n",
    "\n",
    "def act_derivative(a_ary):\n",
    "    # Derivative of RELU\n",
    "    a_ary[a_ary<=0]=0\n",
    "    a_ary[a_ary>0]=1\n",
    "    return a_ary\n",
    "    \n",
    "def self_softmax(a_ary):\n",
    "    e_x = np.exp(a_ary - np.max(a_ary))\n",
    "    return e_x / e_x.sum(axis=0)\n",
    "\n",
    "# fwd, bwd\n",
    "def fwd(input_X):\n",
    "    b1_mat = np.tile(b1,(tr_N,1)).T\n",
    "    b2_mat = np.tile(b2,(tr_N,1)).T\n",
    "    b3_mat = np.tile(b3,(tr_N,1)).T    \n",
    "    a1 = np.matmul(W1.T,input_X.T) + b1_mat\n",
    "    h1 = act_func(a1)\n",
    "    a2 = np.matmul(W2.T,h1) + b2_mat\n",
    "    h2 = act_func(a2)\n",
    "    a3 = np.matmul(W3.T,h2) + b3_mat\n",
    "    y_pre = self_softmax(a3)\n",
    "    return a1, a2, a3, h1, h2, y_pre\n",
    "    \n",
    "def bwd(x,h1,h2,y_pred,a1,a2,yt_label):\n",
    "    global b1,b2,b3,W1,W2,W3\n",
    "    \n",
    "    g = y_pred - yt_label # the result of both derivative with y & softmac-function\n",
    "    \n",
    "    # third-layer\n",
    "    grad_b3 = np.sum(g,axis = 1)\n",
    "    grad_w3 = np.matmul(g,h2.T).T\n",
    "    g = np.matmul(W3,g)\n",
    "    \n",
    "    # second-layer\n",
    "    g = (a2>0)*g\n",
    "    grad_b2 = np.sum(g,axis = 1)\n",
    "    grad_w2 = np.matmul(g,h1.T).T\n",
    "    g = np.matmul(W2,g)\n",
    "    \n",
    "    # first-layer\n",
    "    g = (a1>0)*g\n",
    "    grad_b1 = np.sum(g,axis = 1)\n",
    "    grad_w1 = np.matmul(g,x).T\n",
    "    \n",
    "    grad_b = [grad_b1,grad_b2,grad_b3]\n",
    "    grad_w = [grad_w1,grad_w2,grad_w3]\n",
    "    return grad_b, grad_w\n",
    "\n",
    "def Check_para():\n",
    "    print(b1)\n",
    "    print(b2)\n",
    "    print(b3)\n",
    "#     print(W1)\n",
    "#     print(W2)\n",
    "#     print(W3)\n",
    "    \n",
    "def Calculate_errRate(pred, gt):\n",
    "    cnt = 0\n",
    "    for i in range(tr_N):\n",
    "        y_pre = np.argmax(pred[:,i])\n",
    "        y_gt = np.argmax(gt)\n",
    "        if y_pre == y_gt:\n",
    "            cnt += 1\n",
    "    return cnt / tr_N\n",
    "        \n",
    "# main-function\n",
    "# Check_para()\n",
    "rms_err_lst = []\n",
    "ave_cross_entropy_loss_lst = []\n",
    "err_rate_lst = []\n",
    "for i in tqdm(range(500)):\n",
    "    a1, a2, a3, h1, h2, y_pred = fwd(tr_data)\n",
    "    grad_b, grad_w = bwd(tr_data, h1, h2, y_pred, a1, a2, tr_label.T)\n",
    "    ave_cross_entropy_loss = - np.sum(tr_label.T*np.log(y_pred))\n",
    "    err_rate = Calculate_errRate(y_pred, tr_label.T)\n",
    "    \n",
    "    b1 -= lr*grad_b[0]\n",
    "    b2 -= lr*grad_b[1]\n",
    "    b3 -= lr*grad_b[2]\n",
    "    W1 -= lr*grad_w[0]\n",
    "    W2 -= lr*grad_w[1]\n",
    "    W3 -= lr*grad_w[2]\n",
    "    rms_err_lst.append(rms_err)\n",
    "    ave_cross_entropy_loss_lst.append(ave_cross_entropy_loss)\n",
    "    err_rate_lst.append(err_rate)\n",
    "#     print(rms_err)\n",
    "\n",
    "# print(rms_err)\n",
    "plot(range(500), err_rate_lst)  "
   ]
  },
  {
   "cell_type": "code",
   "execution_count": 69,
   "metadata": {},
   "outputs": [
    {
     "data": {
      "text/plain": [
       "[<matplotlib.lines.Line2D at 0x1819e9f208>]"
      ]
     },
     "execution_count": 69,
     "metadata": {},
     "output_type": "execute_result"
    },
    {
     "data": {
      "image/png": "[encoded data removed]",
      "text/plain": [
       "<matplotlib.figure.Figure at 0x1819f4ce48>"
      ]
     },
     "metadata": {},
     "output_type": "display_data"
    }
   ],
   "source": [
    "plot(range(500), ave_cross_entropy_loss_lst)  "
   ]
  },
  {
   "cell_type": "code",
   "execution_count": 47,
   "metadata": {},
   "outputs": [
    {
     "data": {
      "text/plain": [
       "21.5"
      ]
     },
     "execution_count": 47,
     "metadata": {},
     "output_type": "execute_result"
    }
   ],
   "source": [
    "43/2"
   ]
  },
  {
   "cell_type": "code",
   "execution_count": null,
   "metadata": {},
   "outputs": [],
   "source": []
  }
 ],
 "metadata": {
  "kernelspec": {
   "display_name": "Python 3",
   "language": "python",
   "name": "python3"
  },
  "language_info": {
   "codemirror_mode": {
    "name": "ipython",
    "version": 3
   },
   "file_extension": ".py",
   "mimetype": "text/x-python",
   "name": "python",
   "nbconvert_exporter": "python",
   "pygments_lexer": "ipython3",
   "version": "3.5.4"
  }
 },
 "nbformat": 4,
 "nbformat_minor": 2
}
